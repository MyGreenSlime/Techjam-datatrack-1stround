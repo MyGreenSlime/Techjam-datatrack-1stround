{
 "cells": [
  {
   "cell_type": "code",
   "execution_count": 1,
   "metadata": {},
   "outputs": [],
   "source": [
    "import numpy as np\n",
    "import pandas as pd\n",
    "import seaborn as sea"
   ]
  },
  {
   "cell_type": "code",
   "execution_count": 2,
   "metadata": {},
   "outputs": [],
   "source": [
    "data = pd.read_csv('train.csv')\n",
    "test = pd.read_csv('test.csv')\n",
    "raw_data = pd.read_csv('TJ.csv')"
   ]
  },
  {
   "cell_type": "code",
   "execution_count": 3,
   "metadata": {},
   "outputs": [
    {
     "data": {
      "text/plain": [
       "<matplotlib.axes._subplots.AxesSubplot at 0x259e6b9b710>"
      ]
     },
     "execution_count": 3,
     "metadata": {},
     "output_type": "execute_result"
    },
    {
     "data": {
      "image/png": "[encoded data removed]",
      "text/plain": [
       "<Figure size 432x288 with 1 Axes>"
      ]
     },
     "metadata": {},
     "output_type": "display_data"
    }
   ],
   "source": [
    "sea.boxplot(x = raw_data['ocp_cd'], y = raw_data['sa_avg_amt_month'])"
   ]
  },
  {
   "cell_type": "code",
   "execution_count": 4,
   "metadata": {},
   "outputs": [
    {
     "data": {
      "text/plain": [
       "414.0"
      ]
     },
     "execution_count": 4,
     "metadata": {},
     "output_type": "execute_result"
    }
   ],
   "source": [
    "sum(data['label'])"
   ]
  },
  {
   "cell_type": "code",
   "execution_count": null,
   "metadata": {},
   "outputs": [],
   "source": []
  },
  {
   "cell_type": "code",
   "execution_count": 5,
   "metadata": {},
   "outputs": [],
   "source": [
    "def convertToAge(df):\n",
    "    ages = []\n",
    "    for i in df['brth_yr']:\n",
    "        age = 2018-i\n",
    "        ages.append(age)\n",
    "    df['brth_yr'] = ages\n",
    "    df = df.rename(index=str, columns={\"brth_yr\": \"age\"})\n",
    "    print(\"Finish convertAge\")\n",
    "    return df"
   ]
  },
  {
   "cell_type": "code",
   "execution_count": 6,
   "metadata": {},
   "outputs": [],
   "source": [
    "def convertMartial(df):\n",
    "    mars = []\n",
    "    for i in df['mar_st_cd']:\n",
    "        if(i == 4):\n",
    "            mars.append(1)\n",
    "        else:\n",
    "            mars.append(i)\n",
    "    print(\"Finish convertMatial\")\n",
    "    return mars"
   ]
  },
  {
   "cell_type": "code",
   "execution_count": 7,
   "metadata": {},
   "outputs": [],
   "source": [
    "data = data.drop(['cat1','cat2','cat3','cat4','cat5','cat6','cat7','cat8','cat9','cat10','cat11','cat12','cat13','cat14','cat15','cat16','cc_avg_freq_month','cc_avg_amt_month','act_strt_dt'], axis = 1)\n",
    "test = test.drop(['cat1','cat2','cat3','cat4','cat5','cat6','cat7','cat8','cat9','cat10','cat11','cat12','cat13','cat14','cat15','cat16','cc_avg_freq_month','cc_avg_amt_month','act_strt_dt'], axis = 1)"
   ]
  },
  {
   "cell_type": "code",
   "execution_count": 8,
   "metadata": {},
   "outputs": [
    {
     "name": "stdout",
     "output_type": "stream",
     "text": [
      "<class 'pandas.core.frame.DataFrame'>\n",
      "RangeIndex: 3938 entries, 0 to 3937\n",
      "Data columns (total 20 columns):\n",
      "ip_id                3938 non-null int64\n",
      "brth_yr              3938 non-null float64\n",
      "no_of_dpnd_chl       3938 non-null float64\n",
      "cis_income           3938 non-null float64\n",
      "crn_bal              3938 non-null float64\n",
      "gnd_cd               3938 non-null float64\n",
      "mar_st_cd            3938 non-null float64\n",
      "ctf_tp_cd            3938 non-null float64\n",
      "ocp_cd               3938 non-null int64\n",
      "sa_avg_freq_month    3602 non-null float64\n",
      "sa_avg_amt_month     3602 non-null float64\n",
      "total_use            3602 non-null float64\n",
      "EDC                  3602 non-null float64\n",
      "Branch               3602 non-null float64\n",
      "KPlus                3602 non-null float64\n",
      "ATM                  3602 non-null float64\n",
      "CDM                  3602 non-null float64\n",
      "CorporateConnect     3602 non-null float64\n",
      "CR                   3602 non-null float64\n",
      "DR                   3602 non-null float64\n",
      "dtypes: float64(18), int64(2)\n",
      "memory usage: 615.4 KB\n"
     ]
    }
   ],
   "source": [
    "test.info()"
   ]
  },
  {
   "cell_type": "code",
   "execution_count": 9,
   "metadata": {},
   "outputs": [
    {
     "name": "stderr",
     "output_type": "stream",
     "text": [
      "C:\\Anaconda3\\lib\\site-packages\\numpy\\core\\fromnumeric.py:2957: RuntimeWarning: Mean of empty slice.\n",
      "  out=out, **kwargs)\n",
      "C:\\Anaconda3\\lib\\site-packages\\numpy\\core\\_methods.py:80: RuntimeWarning: invalid value encountered in double_scalars\n",
      "  ret = ret.dtype.type(ret / rcount)\n"
     ]
    }
   ],
   "source": [
    "MedAmtOcp = {}\n",
    "for i in range(12):\n",
    "    x = np.median(raw_data[raw_data['ocp_cd'] == i+1]['sa_avg_amt_month'].dropna())\n",
    "    MedAmtOcp[i+1] = x \n",
    "MedFreqOcp = {}\n",
    "for i in range(12):\n",
    "    x = np.median(raw_data[raw_data['ocp_cd'] == i+1]['sa_avg_freq_month'].dropna())\n",
    "    MedFreqOcp[i+1] = x\n",
    "MedCROcp = {}\n",
    "for i in range(12):\n",
    "    x = np.median(raw_data[raw_data['ocp_cd'] == i+1]['CR'].dropna())\n",
    "    MedCROcp[i+1] = x\n",
    "MedincomeOcp = {}\n",
    "for i in range(12):\n",
    "    MedincomeOcp[i+1] = np.median(raw_data[raw_data['ocp_cd'] == i+1]['cis_income'].dropna())\n",
    "MaxincomeOcp = {}\n",
    "for i in range(12):\n",
    "    MaxincomeOcp[i+1] = np.max(raw_data[raw_data['ocp_cd'] == i+1]['cis_income'].dropna())\n",
    "MinincomeOcp = {}\n",
    "for i in range(12):\n",
    "    MinincomeOcp[i+1]= np.min(raw_data[raw_data['ocp_cd'] == i+1]['cis_income'].dropna())\n",
    "    "
   ]
  },
  {
   "cell_type": "code",
   "execution_count": 10,
   "metadata": {},
   "outputs": [],
   "source": [
    "def clearNull(df):\n",
    "    newdf = df.copy()\n",
    "    for index in df.index:\n",
    "        if(np.isnan(df['sa_avg_freq_month'][index])):\n",
    "            temp = MedFreqOcp[df['ocp_cd'][index]]\n",
    "            newdf['sa_avg_freq_month'][index] = temp\n",
    "        if(np.isnan(df['sa_avg_amt_month'][index])):\n",
    "            temp =  MedAmtOcp[df['ocp_cd'][index]]\n",
    "            newdf['sa_avg_amt_month'][index] = temp\n",
    "        if(np.isnan(df['CR'][index])):\n",
    "            temp = MedCROcp[df['ocp_cd'][index]]\n",
    "            newdf['CR'][index] = temp\n",
    "    print(\"Finish ClearNULL\")\n",
    "    return newdf"
   ]
  },
  {
   "cell_type": "code",
   "execution_count": 11,
   "metadata": {},
   "outputs": [],
   "source": [
    "def scoreIncome(df):\n",
    "    scores = []\n",
    "    for i in df.iterrows():\n",
    "        score = (i[1]['cis_income']-MedincomeOcp[i[1]['ocp_cd']])/(MedincomeOcp[i[1]['ocp_cd']])\n",
    "        scores.append(score)\n",
    "    print(\"Finish scoreIncome\")\n",
    "    return scores"
   ]
  },
  {
   "cell_type": "code",
   "execution_count": 12,
   "metadata": {
    "scrolled": true
   },
   "outputs": [
    {
     "name": "stdout",
     "output_type": "stream",
     "text": [
      "Finish convertAge\n",
      "Finish convertMatial\n",
      "Finish scoreIncome\n",
      "Finish convertAge\n",
      "Finish convertMatial\n"
     ]
    },
    {
     "name": "stderr",
     "output_type": "stream",
     "text": [
      "C:\\Anaconda3\\lib\\site-packages\\ipykernel_launcher.py:6: SettingWithCopyWarning: \n",
      "A value is trying to be set on a copy of a slice from a DataFrame\n",
      "\n",
      "See the caveats in the documentation: http://pandas.pydata.org/pandas-docs/stable/indexing.html#indexing-view-versus-copy\n",
      "  \n",
      "C:\\Anaconda3\\lib\\site-packages\\ipykernel_launcher.py:9: SettingWithCopyWarning: \n",
      "A value is trying to be set on a copy of a slice from a DataFrame\n",
      "\n",
      "See the caveats in the documentation: http://pandas.pydata.org/pandas-docs/stable/indexing.html#indexing-view-versus-copy\n",
      "  if __name__ == '__main__':\n",
      "C:\\Anaconda3\\lib\\site-packages\\ipykernel_launcher.py:12: SettingWithCopyWarning: \n",
      "A value is trying to be set on a copy of a slice from a DataFrame\n",
      "\n",
      "See the caveats in the documentation: http://pandas.pydata.org/pandas-docs/stable/indexing.html#indexing-view-versus-copy\n",
      "  if sys.path[0] == '':\n"
     ]
    },
    {
     "name": "stdout",
     "output_type": "stream",
     "text": [
      "Finish ClearNULL\n",
      "Finish scoreIncome\n"
     ]
    }
   ],
   "source": [
    "data = convertToAge(data)\n",
    "data['mar_st_cd'] = convertMartial(data)\n",
    "data['score_income'] = scoreIncome(data)\n",
    "test = convertToAge(test)\n",
    "test['mar_st_cd'] = convertMartial(test)\n",
    "test = clearNull(test)\n",
    "test['score_income'] = scoreIncome(test)"
   ]
  },
  {
   "cell_type": "code",
   "execution_count": 13,
   "metadata": {},
   "outputs": [
    {
     "name": "stdout",
     "output_type": "stream",
     "text": [
      "0.2895981439067194\n"
     ]
    },
    {
     "data": {
      "text/plain": [
       "Index(['ip_id', 'label', 'age', 'no_of_dpnd_chl', 'cis_income', 'crn_bal',\n",
       "       'gnd_cd', 'mar_st_cd', 'ctf_tp_cd', 'ocp_cd', 'sa_avg_freq_month',\n",
       "       'sa_avg_amt_month', 'total_use', 'EDC', 'Branch', 'KPlus', 'ATM', 'CDM',\n",
       "       'CorporateConnect', 'CR', 'DR', 'score_income'],\n",
       "      dtype='object')"
      ]
     },
     "execution_count": 13,
     "metadata": {},
     "output_type": "execute_result"
    }
   ],
   "source": [
    "print(data['score_income'][1])\n",
    "data.columns"
   ]
  },
  {
   "cell_type": "code",
   "execution_count": 14,
   "metadata": {},
   "outputs": [],
   "source": [
    "data['CR'] = data['CR']/100\n",
    "test['CR'] = test['CR']/100"
   ]
  },
  {
   "cell_type": "code",
   "execution_count": 85,
   "metadata": {},
   "outputs": [
    {
     "data": {
      "text/html": [
       "<div>\n",
       "<style scoped>\n",
       "    .dataframe tbody tr th:only-of-type {\n",
       "        vertical-align: middle;\n",
       "    }\n",
       "\n",
       "    .dataframe tbody tr th {\n",
       "        vertical-align: top;\n",
       "    }\n",
       "\n",
       "    .dataframe thead th {\n",
       "        text-align: right;\n",
       "    }\n",
       "</style>\n",
       "<table border=\"1\" class=\"dataframe\">\n",
       "  <thead>\n",
       "    <tr style=\"text-align: right;\">\n",
       "      <th></th>\n",
       "      <th>ip_id</th>\n",
       "      <th>label</th>\n",
       "      <th>age</th>\n",
       "      <th>no_of_dpnd_chl</th>\n",
       "      <th>cis_income</th>\n",
       "      <th>crn_bal</th>\n",
       "      <th>gnd_cd</th>\n",
       "      <th>mar_st_cd</th>\n",
       "      <th>ctf_tp_cd</th>\n",
       "      <th>ocp_cd</th>\n",
       "      <th>...</th>\n",
       "      <th>total_use</th>\n",
       "      <th>EDC</th>\n",
       "      <th>Branch</th>\n",
       "      <th>KPlus</th>\n",
       "      <th>ATM</th>\n",
       "      <th>CDM</th>\n",
       "      <th>CorporateConnect</th>\n",
       "      <th>CR</th>\n",
       "      <th>DR</th>\n",
       "      <th>score_income</th>\n",
       "    </tr>\n",
       "  </thead>\n",
       "  <tbody>\n",
       "    <tr>\n",
       "      <th>0</th>\n",
       "      <td>1</td>\n",
       "      <td>0.0</td>\n",
       "      <td>28.0</td>\n",
       "      <td>0.0</td>\n",
       "      <td>45864.0</td>\n",
       "      <td>876428.0</td>\n",
       "      <td>2.0</td>\n",
       "      <td>2.0</td>\n",
       "      <td>3.0</td>\n",
       "      <td>9</td>\n",
       "      <td>...</td>\n",
       "      <td>42.0</td>\n",
       "      <td>7.0</td>\n",
       "      <td>19.0</td>\n",
       "      <td>21.0</td>\n",
       "      <td>16.0</td>\n",
       "      <td>16.0</td>\n",
       "      <td>19.0</td>\n",
       "      <td>0.50</td>\n",
       "      <td>50.0</td>\n",
       "      <td>0.067089</td>\n",
       "    </tr>\n",
       "    <tr>\n",
       "      <th>1</th>\n",
       "      <td>2</td>\n",
       "      <td>0.0</td>\n",
       "      <td>32.0</td>\n",
       "      <td>1.0</td>\n",
       "      <td>43355.0</td>\n",
       "      <td>540649.0</td>\n",
       "      <td>2.0</td>\n",
       "      <td>2.0</td>\n",
       "      <td>1.0</td>\n",
       "      <td>3</td>\n",
       "      <td>...</td>\n",
       "      <td>41.0</td>\n",
       "      <td>7.0</td>\n",
       "      <td>17.0</td>\n",
       "      <td>24.0</td>\n",
       "      <td>12.0</td>\n",
       "      <td>17.0</td>\n",
       "      <td>21.0</td>\n",
       "      <td>0.46</td>\n",
       "      <td>53.0</td>\n",
       "      <td>0.289598</td>\n",
       "    </tr>\n",
       "    <tr>\n",
       "      <th>2</th>\n",
       "      <td>3</td>\n",
       "      <td>0.0</td>\n",
       "      <td>35.0</td>\n",
       "      <td>0.0</td>\n",
       "      <td>48836.0</td>\n",
       "      <td>310503.0</td>\n",
       "      <td>2.0</td>\n",
       "      <td>2.0</td>\n",
       "      <td>2.0</td>\n",
       "      <td>12</td>\n",
       "      <td>...</td>\n",
       "      <td>42.0</td>\n",
       "      <td>4.0</td>\n",
       "      <td>23.0</td>\n",
       "      <td>21.0</td>\n",
       "      <td>21.0</td>\n",
       "      <td>2.0</td>\n",
       "      <td>26.0</td>\n",
       "      <td>0.40</td>\n",
       "      <td>59.0</td>\n",
       "      <td>0.147651</td>\n",
       "    </tr>\n",
       "    <tr>\n",
       "      <th>3</th>\n",
       "      <td>4</td>\n",
       "      <td>0.0</td>\n",
       "      <td>34.0</td>\n",
       "      <td>0.0</td>\n",
       "      <td>44397.0</td>\n",
       "      <td>34209.0</td>\n",
       "      <td>2.0</td>\n",
       "      <td>2.0</td>\n",
       "      <td>5.0</td>\n",
       "      <td>11</td>\n",
       "      <td>...</td>\n",
       "      <td>34.0</td>\n",
       "      <td>14.0</td>\n",
       "      <td>14.0</td>\n",
       "      <td>23.0</td>\n",
       "      <td>17.0</td>\n",
       "      <td>11.0</td>\n",
       "      <td>17.0</td>\n",
       "      <td>0.47</td>\n",
       "      <td>52.0</td>\n",
       "      <td>0.039986</td>\n",
       "    </tr>\n",
       "    <tr>\n",
       "      <th>4</th>\n",
       "      <td>5</td>\n",
       "      <td>0.0</td>\n",
       "      <td>32.0</td>\n",
       "      <td>1.0</td>\n",
       "      <td>43281.0</td>\n",
       "      <td>39963.0</td>\n",
       "      <td>2.0</td>\n",
       "      <td>3.0</td>\n",
       "      <td>6.0</td>\n",
       "      <td>9</td>\n",
       "      <td>...</td>\n",
       "      <td>36.0</td>\n",
       "      <td>19.0</td>\n",
       "      <td>22.0</td>\n",
       "      <td>19.0</td>\n",
       "      <td>25.0</td>\n",
       "      <td>11.0</td>\n",
       "      <td>2.0</td>\n",
       "      <td>0.44</td>\n",
       "      <td>55.0</td>\n",
       "      <td>0.006992</td>\n",
       "    </tr>\n",
       "  </tbody>\n",
       "</table>\n",
       "<p>5 rows × 22 columns</p>\n",
       "</div>"
      ],
      "text/plain": [
       "   ip_id  label   age  no_of_dpnd_chl  cis_income   crn_bal  gnd_cd  \\\n",
       "0      1    0.0  28.0             0.0     45864.0  876428.0     2.0   \n",
       "1      2    0.0  32.0             1.0     43355.0  540649.0     2.0   \n",
       "2      3    0.0  35.0             0.0     48836.0  310503.0     2.0   \n",
       "3      4    0.0  34.0             0.0     44397.0   34209.0     2.0   \n",
       "4      5    0.0  32.0             1.0     43281.0   39963.0     2.0   \n",
       "\n",
       "   mar_st_cd  ctf_tp_cd  ocp_cd      ...       total_use   EDC  Branch  KPlus  \\\n",
       "0        2.0        3.0       9      ...            42.0   7.0    19.0   21.0   \n",
       "1        2.0        1.0       3      ...            41.0   7.0    17.0   24.0   \n",
       "2        2.0        2.0      12      ...            42.0   4.0    23.0   21.0   \n",
       "3        2.0        5.0      11      ...            34.0  14.0    14.0   23.0   \n",
       "4        3.0        6.0       9      ...            36.0  19.0    22.0   19.0   \n",
       "\n",
       "    ATM   CDM  CorporateConnect    CR    DR  score_income  \n",
       "0  16.0  16.0              19.0  0.50  50.0      0.067089  \n",
       "1  12.0  17.0              21.0  0.46  53.0      0.289598  \n",
       "2  21.0   2.0              26.0  0.40  59.0      0.147651  \n",
       "3  17.0  11.0              17.0  0.47  52.0      0.039986  \n",
       "4  25.0  11.0               2.0  0.44  55.0      0.006992  \n",
       "\n",
       "[5 rows x 22 columns]"
      ]
     },
     "execution_count": 85,
     "metadata": {},
     "output_type": "execute_result"
    }
   ],
   "source": [
    "data.head()"
   ]
  },
  {
   "cell_type": "code",
   "execution_count": 98,
   "metadata": {},
   "outputs": [],
   "source": [
    "from sklearn.linear_model import LogisticRegression\n",
    "from sklearn.tree import DecisionTreeClassifier\n",
    "from sklearn.ensemble import RandomForestClassifier\n",
    "from sklearn.model_selection import train_test_split\n",
    "from sklearn.neighbors import KNeighborsClassifier"
   ]
  },
  {
   "cell_type": "code",
   "execution_count": 99,
   "metadata": {},
   "outputs": [],
   "source": [
    "clf = LogisticRegression()\n",
    "dtc = DecisionTreeClassifier(max_depth=10)\n",
    "rf = RandomForestClassifier(max_depth=10)\n",
    "knn = KNeighborsClassifier()"
   ]
  },
  {
   "cell_type": "code",
   "execution_count": 100,
   "metadata": {},
   "outputs": [],
   "source": [
    "features = data[['score_income']]\n",
    "label = data['label']\n",
    "\n",
    "train_x, test_x, train_y, test_y = train_test_split(features,label, test_size = 0.1, random_state = 42)"
   ]
  },
  {
   "cell_type": "code",
   "execution_count": 102,
   "metadata": {
    "scrolled": true
   },
   "outputs": [
    {
     "data": {
      "text/plain": [
       "KNeighborsClassifier(algorithm='auto', leaf_size=30, metric='minkowski',\n",
       "           metric_params=None, n_jobs=1, n_neighbors=5, p=2,\n",
       "           weights='uniform')"
      ]
     },
     "execution_count": 102,
     "metadata": {},
     "output_type": "execute_result"
    }
   ],
   "source": [
    "clf.fit(features,label)\n",
    "dtc.fit(features,label)\n",
    "rf.fit(features,label)\n",
    "knn.fit(features,label)"
   ]
  },
  {
   "cell_type": "code",
   "execution_count": 103,
   "metadata": {},
   "outputs": [
    {
     "name": "stdout",
     "output_type": "stream",
     "text": [
      "0.9309262166405023\n",
      "0.967032967032967\n",
      "0.9623233908948194\n",
      "0.9560439560439561\n"
     ]
    }
   ],
   "source": [
    "print(clf.score(test_x,test_y))\n",
    "print(dtc.score(test_x,test_y))\n",
    "print(rf.score(test_x,test_y))\n",
    "print(knn.score(test_x,test_y))"
   ]
  },
  {
   "cell_type": "code",
   "execution_count": 104,
   "metadata": {},
   "outputs": [],
   "source": [
    "feature_test = test[['score_income']]"
   ]
  },
  {
   "cell_type": "code",
   "execution_count": 105,
   "metadata": {},
   "outputs": [
    {
     "data": {
      "text/plain": [
       "array([[0.98622563, 0.01377437],\n",
       "       [0.98926973, 0.01073027],\n",
       "       [0.98721749, 0.01278251],\n",
       "       ...,\n",
       "       [0.        , 1.        ],\n",
       "       [0.        , 1.        ],\n",
       "       [0.        , 1.        ]])"
      ]
     },
     "execution_count": 105,
     "metadata": {},
     "output_type": "execute_result"
    }
   ],
   "source": [
    "clf.predict_proba(feature_test)\n",
    "dtc.predict_proba(feature_test)\n",
    "rf.predict_proba(feature_test)"
   ]
  },
  {
   "cell_type": "code",
   "execution_count": 110,
   "metadata": {},
   "outputs": [],
   "source": [
    "ans = pd.DataFrame(dtc.predict_proba(feature_test))[1]"
   ]
  },
  {
   "cell_type": "code",
   "execution_count": 111,
   "metadata": {},
   "outputs": [
    {
     "data": {
      "text/plain": [
       "1728"
      ]
     },
     "execution_count": 111,
     "metadata": {},
     "output_type": "execute_result"
    }
   ],
   "source": [
    "len(ans[ans<0.5])"
   ]
  },
  {
   "cell_type": "code",
   "execution_count": null,
   "metadata": {},
   "outputs": [],
   "source": []
  },
  {
   "cell_type": "code",
   "execution_count": 97,
   "metadata": {},
   "outputs": [],
   "source": [
    "ans.to_csv('TJ2018-AUDITION-[10558].csv', header= False, index= False)"
   ]
  }
 ],
 "metadata": {
  "kernelspec": {
   "display_name": "Python 3",
   "language": "python",
   "name": "python3"
  },
  "language_info": {
   "codemirror_mode": {
    "name": "ipython",
    "version": 3
   },
   "file_extension": ".py",
   "mimetype": "text/x-python",
   "name": "python",
   "nbconvert_exporter": "python",
   "pygments_lexer": "ipython3",
   "version": "3.6.5"
  }
 },
 "nbformat": 4,
 "nbformat_minor": 2
}
